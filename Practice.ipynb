{
 "cells": [
  {
   "cell_type": "code",
   "execution_count": null,
   "metadata": {
    "collapsed": true
   },
   "outputs": [],
   "source": [
    "from HungarianAlgo import Hungarian\n",
    "from sklearn.cluster import KMeans\n",
    "from sklearn import datasets\n",
    "import pandas as pd\n",
    "import numpy as np\n",
    "\n",
    "from Bootstrap import *\n",
    "from HungarianAlgo import *\n",
    "from Prepare import *\n",
    "from OptimalClusters import *\n",
    "from RunningAlgos import *\n",
    "from Consensus import *\n",
    "\n",
    "%matplotlib inline\n",
    "\n",
    "\n",
    "# initialize consts\n",
    "np.random.seed(666)\n",
    "MAX_K = 8                     # MAX K used for optimal K sweep\n",
    "BOOTSTRAP_SIZE = int(159*1)   # size of each bootstrap sample\n",
    "BOOTSTRAP_N = 20              # number of bootstrap samples (YOU CAN PLAY AROUND WITH THIS)\n",
    "DATA_START_INDEX = 1          # account for df's named index column 0 (DON'T CHANGE THIS UNLESS YOUR DATASET NEEDS IT)\n",
    "DO_K_SWEEP = True             # switch to do sweep of K values using K means to find optimal K\n",
    "OPTIMAL_K = 3                 # Iris dataset has 3 clusters (ground truth), change this for different datasets"
   ]
  }
 ],
 "metadata": {
  "kernelspec": {
   "display_name": "Python 2",
   "language": "python",
   "name": "python2"
  },
  "language_info": {
   "codemirror_mode": {
    "name": "ipython",
    "version": 2
   },
   "file_extension": ".py",
   "mimetype": "text/x-python",
   "name": "python",
   "nbconvert_exporter": "python",
   "pygments_lexer": "ipython2",
   "version": "2.7.6"
  }
 },
 "nbformat": 4,
 "nbformat_minor": 0
}
